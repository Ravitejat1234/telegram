{
 "cells": [
  {
   "cell_type": "code",
   "execution_count": 2,
   "id": "39b8611c-c4d1-48e6-aef6-804ec52930f6",
   "metadata": {},
   "outputs": [
    {
     "ename": "ValueError",
     "evalue": "Missing required environment variables (TELEGRAM_BOT_TOKEN, MONGODB_URI).",
     "output_type": "error",
     "traceback": [
      "\u001b[1;31m---------------------------------------------------------------------------\u001b[0m",
      "\u001b[1;31mValueError\u001b[0m                                Traceback (most recent call last)",
      "Cell \u001b[1;32mIn[2], line 14\u001b[0m\n\u001b[0;32m     11\u001b[0m MONGODB_URI \u001b[38;5;241m=\u001b[39m os\u001b[38;5;241m.\u001b[39mgetenv(\u001b[38;5;124m\"\u001b[39m\u001b[38;5;124mMONGODB_URI\u001b[39m\u001b[38;5;124m\"\u001b[39m)\n\u001b[0;32m     13\u001b[0m \u001b[38;5;28;01mif\u001b[39;00m \u001b[38;5;129;01mnot\u001b[39;00m \u001b[38;5;28mall\u001b[39m([TELEGRAM_BOT_TOKEN, MONGODB_URI]):  \n\u001b[1;32m---> 14\u001b[0m     \u001b[38;5;28;01mraise\u001b[39;00m \u001b[38;5;167;01mValueError\u001b[39;00m(\u001b[38;5;124m\"\u001b[39m\u001b[38;5;124mMissing required environment variables (TELEGRAM_BOT_TOKEN, MONGODB_URI).\u001b[39m\u001b[38;5;124m\"\u001b[39m)\n\u001b[0;32m     16\u001b[0m client \u001b[38;5;241m=\u001b[39m MongoClient(MONGODB_URI)\n\u001b[0;32m     17\u001b[0m db \u001b[38;5;241m=\u001b[39m client[\u001b[38;5;124m\"\u001b[39m\u001b[38;5;124mtelegram_bot\u001b[39m\u001b[38;5;124m\"\u001b[39m]\n",
      "\u001b[1;31mValueError\u001b[0m: Missing required environment variables (TELEGRAM_BOT_TOKEN, MONGODB_URI)."
     ]
    }
   ],
   "source": [
    "import os\n",
    "import asyncio\n",
    "from dotenv import load_dotenv\n",
    "from telegram import Update, ForceReply\n",
    "from telegram.ext import ApplicationBuilder, CommandHandler, MessageHandler, filters, CallbackContext\n",
    "from pymongo import MongoClient\n",
    "\n",
    "load_dotenv()\n",
    "\n",
    "TELEGRAM_BOT_TOKEN = os.getenv(\"TELEGRAM_BOT_TOKEN\")\n",
    "MONGODB_URI = os.getenv(\"MONGODB_URI\")\n",
    "\n",
    "if not all([TELEGRAM_BOT_TOKEN, MONGODB_URI]):  \n",
    "    raise ValueError(\"Missing required environment variables (TELEGRAM_BOT_TOKEN, MONGODB_URI).\")\n",
    "\n",
    "client = MongoClient(MONGODB_URI)\n",
    "db = client[\"telegram_bot\"]\n",
    "users_collection = db[\"users\"]\n",
    "\n",
    "async def start(update: Update, context: CallbackContext):\n",
    "    user = update.message.from_user\n",
    "    user_data = {\n",
    "        \"first_name\": user.first_name,\n",
    "        \"username\": user.username,\n",
    "        \"chat_id\": user.id\n",
    "    }\n",
    "\n",
    "    if users_collection.find_one({\"chat_id\": user.id}):\n",
    "        await update.message.reply_text(\"Welcome back!\")  # User already registered\n",
    "    else:\n",
    "        users_collection.insert_one(user_data)\n",
    "        await update.message.reply_text(\"Welcome! Please share your contact information to complete registration.\",\n",
    "                                        reply_markup=ForceReply(selective=True))  # Request contact\n",
    "\n",
    "\n",
    "async def handle_contact(update: Update, context: CallbackContext):\n",
    "    if update.message.contact:  # Check if contact information is provided\n",
    "        user = update.message.from_user\n",
    "        contact = update.message.contact\n",
    "        phone_number = contact.phone_number\n",
    "\n",
    "        users_collection.update_one(\n",
    "            {\"chat_id\": user.id},\n",
    "            {\"$set\": {\"phone_number\": phone_number}}\n",
    "        )\n",
    "        await update.message.reply_text(\"Thank you for registering! Your phone number has been saved.\")\n",
    "    else:\n",
    "        await update.message.reply_text(\"Please share your contact information using the 'Contact' button.\")\n",
    "\n",
    "\n",
    "async def main() -> None:\n",
    "    application = ApplicationBuilder().token(TELEGRAM_BOT_TOKEN).build()\n",
    "\n",
    "    application.add_handler(CommandHandler(\"start\", start))\n",
    "    application.add_handler(MessageHandler(filters.CONTACT, handle_contact))  # Handle contact information\n",
    "\n",
    "    try:\n",
    "        await application.initialize()\n",
    "        await application.start_polling()\n",
    "        await application.idle()\n",
    "    finally:\n",
    "        client.close()\n",
    "\n",
    "\n",
    "if __name__ == '__main__':\n",
    "    asyncio.run(main())"
   ]
  },
  {
   "cell_type": "code",
   "execution_count": 3,
   "id": "c3e5bfbf-e3d5-4c02-9fe4-d849df19dbd5",
   "metadata": {},
   "outputs": [
    {
     "name": "stdout",
     "output_type": "stream",
     "text": [
      "TELEGRAM_BOT_TOKEN: YOUR_ACTUAL_TELEGRAM_BOT_TOKEN\n",
      "MONGODB_URI: YOUR_ACTUAL_MONGODB_URI\n",
      "Variables set successfully!\n"
     ]
    }
   ],
   "source": [
    "TELEGRAM_BOT_TOKEN = \"YOUR_ACTUAL_TELEGRAM_BOT_TOKEN\"  # **REPLACE THIS**\n",
    "MONGODB_URI = \"YOUR_ACTUAL_MONGODB_URI\"            # **REPLACE THIS**\n",
    "\n",
    "print(f\"TELEGRAM_BOT_TOKEN: {TELEGRAM_BOT_TOKEN}\")\n",
    "print(f\"MONGODB_URI: {MONGODB_URI}\")\n",
    "\n",
    "if not all([TELEGRAM_BOT_TOKEN, MONGODB_URI]):\n",
    "    raise ValueError(\"TELEGRAM_BOT_TOKEN or MONGODB_URI are not set. Check the values set in this cell.\")\n",
    "\n",
    "print(\"Variables set successfully!\")"
   ]
  },
  {
   "cell_type": "code",
   "execution_count": 4,
   "id": "67850af4-340c-4111-be7e-75ac10601dbe",
   "metadata": {},
   "outputs": [
    {
     "name": "stdout",
     "output_type": "stream",
     "text": [
      "MongoDB connection failed: your_actual_mongodb_uri:27017: [Errno 11001] getaddrinfo failed (configured timeouts: socketTimeoutMS: 20000.0ms, connectTimeoutMS: 20000.0ms), Timeout: 30s, Topology Description: <TopologyDescription id: 679b6b82e6e7078e7eccd589, topology_type: Unknown, servers: [<ServerDescription ('your_actual_mongodb_uri', 27017) server_type: Unknown, rtt: None, error=AutoReconnect('your_actual_mongodb_uri:27017: [Errno 11001] getaddrinfo failed (configured timeouts: socketTimeoutMS: 20000.0ms, connectTimeoutMS: 20000.0ms)')>]>\n"
     ]
    }
   ],
   "source": [
    "from pymongo import MongoClient\n",
    "\n",
    "try:\n",
    "    client = MongoClient(MONGODB_URI)  # Use the variable from the previous cell\n",
    "    db = client[\"test_database\"]  # Try connecting to a test database\n",
    "    collection = db[\"test_collection\"]  # Try accessing a test collection\n",
    "\n",
    "    # Try a simple operation (inserting a document)\n",
    "    test_document = {\"test\": \"success\"}\n",
    "    collection.insert_one(test_document)\n",
    "    print(\"MongoDB connection and test successful!\")\n",
    "\n",
    "    client.close()  # Close the connection\n",
    "\n",
    "except Exception as e:\n",
    "    print(f\"MongoDB connection failed: {e}\")"
   ]
  },
  {
   "cell_type": "code",
   "execution_count": null,
   "id": "a85d6fcd-ff95-48fa-a2b9-a0794e192ed6",
   "metadata": {},
   "outputs": [],
   "source": []
  },
  {
   "cell_type": "code",
   "execution_count": 5,
   "id": "ac0a3408-1554-4efe-aac5-02fc2a5edd0b",
   "metadata": {},
   "outputs": [
    {
     "name": "stdout",
     "output_type": "stream",
     "text": [
      "Telegram connection successful!\n"
     ]
    }
   ],
   "source": [
    "from telegram import Bot\n",
    "\n",
    "try:\n",
    "    bot = Bot(token=TELEGRAM_BOT_TOKEN)  # Use the variable from the first cell\n",
    "    print(\"Telegram connection successful!\")\n",
    "\n",
    "    # You can try a simple Telegram API call here if you want:\n",
    "    # me = bot.get_me()\n",
    "    # print(me)\n",
    "\n",
    "except Exception as e:\n",
    "    print(f\"Telegram connection failed: {e}\")\n",
    "    "
   ]
  },
  {
   "cell_type": "code",
   "execution_count": 6,
   "id": "bfb6415f-1bd2-4a46-847c-cb8bd8089818",
   "metadata": {},
   "outputs": [
    {
     "name": "stdout",
     "output_type": "stream",
     "text": [
      "MongoDB connection successful!\n"
     ]
    }
   ],
   "source": [
    "from pymongo import MongoClient\n",
    "\n",
    "try:\n",
    "    client = MongoClient(\"mongodb://localhost:27017/\")  # Try connecting to localhost\n",
    "    print(\"MongoDB connection successful!\")\n",
    "    client.close()\n",
    "except Exception as e:\n",
    "    print(f\"MongoDB connection failed: {e}\")"
   ]
  },
  {
   "cell_type": "code",
   "execution_count": 12,
   "id": "6fd0649f-0439-480b-a3db-6962f9b852d4",
   "metadata": {},
   "outputs": [
    {
     "name": "stdout",
     "output_type": "stream",
     "text": [
      "Current working directory: C:\\telegram\n"
     ]
    }
   ],
   "source": [
    "import os\n",
    "print(f\"Current working directory: {os.getcwd()}\")"
   ]
  },
  {
   "cell_type": "code",
   "execution_count": null,
   "id": "ad44090f-31da-4f10-8687-d212d218208a",
   "metadata": {},
   "outputs": [],
   "source": []
  }
 ],
 "metadata": {
  "kernelspec": {
   "display_name": "Python 3 (ipykernel)",
   "language": "python",
   "name": "python3"
  },
  "language_info": {
   "codemirror_mode": {
    "name": "ipython",
    "version": 3
   },
   "file_extension": ".py",
   "mimetype": "text/x-python",
   "name": "python",
   "nbconvert_exporter": "python",
   "pygments_lexer": "ipython3",
   "version": "3.13.1"
  }
 },
 "nbformat": 4,
 "nbformat_minor": 5
}
